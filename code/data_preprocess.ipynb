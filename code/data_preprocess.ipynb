{
 "cells": [
  {
   "cell_type": "code",
   "execution_count": 1,
   "metadata": {
    "collapsed": true
   },
   "outputs": [],
   "source": [
    "import numpy as np"
   ]
  },
  {
   "cell_type": "code",
   "execution_count": 2,
   "metadata": {
    "collapsed": true
   },
   "outputs": [],
   "source": [
    "dataset = \"text8\"\n",
    "path = \"../data/train/text8/\"\n",
    "f = open(path+dataset,'r')\n",
    "line = f.readline().split()\n",
    "# line = f.readline()\n",
    "f.close()"
   ]
  },
  {
   "cell_type": "code",
   "execution_count": 3,
   "metadata": {},
   "outputs": [
    {
     "name": "stdout",
     "output_type": "stream",
     "text": [
      "17005207\n"
     ]
    }
   ],
   "source": [
    "print len(line)\n",
    "# for i in range(0,1000):\n",
    "#     print line[i],"
   ]
  },
  {
   "cell_type": "code",
   "execution_count": 4,
   "metadata": {},
   "outputs": [
    {
     "name": "stdout",
     "output_type": "stream",
     "text": [
      "Vocabulary size of the dataset 253854\n"
     ]
    }
   ],
   "source": [
    "word_to_ind = {}\n",
    "frq_word = []\n",
    "c = 0\n",
    "for i in line:\n",
    "    if not (i in word_to_ind):\n",
    "        word_to_ind[i] = c\n",
    "        frq_word.append(1)\n",
    "        c += 1\n",
    "    else:\n",
    "        frq_word[word_to_ind[i]] += 1\n",
    "print(\"Vocabulary size of the dataset %d\" %(c))\n",
    "frq_word = np.array(frq_word,dtype=np.int32)\n",
    "ind_frq_word = np.argsort(frq_word)\n",
    "ind_to_word = {v: k for k, v in word_to_ind.iteritems()}"
   ]
  },
  {
   "cell_type": "code",
   "execution_count": 5,
   "metadata": {},
   "outputs": [
    {
     "name": "stdout",
     "output_type": "stream",
     "text": [
      "Number of non-zero entries, max index, min index\n",
      "21560086 447581 1\n"
     ]
    }
   ],
   "source": [
    "indices = {}\n",
    "c_window = 3   # size of the window\n",
    "for i in xrange(0,len(line)-(c_window+1)):\n",
    "    \n",
    "    for j in range(1,c_window+1):\n",
    "        temp_ind = (word_to_ind[line[i]],word_to_ind[line[i+j]])\n",
    "        if temp_ind in indices:\n",
    "            indices[temp_ind] += 1\n",
    "        else:\n",
    "            indices[temp_ind] = 1\n",
    "\n",
    "        temp_ind = (word_to_ind[line[i+j]],word_to_ind[line[i]])\n",
    "        if temp_ind in indices:\n",
    "            indices[temp_ind] += 1\n",
    "        else:\n",
    "            indices[temp_ind] = 1\n",
    "\n",
    "print \"Number of non-zero entries, max index, min index\"            \n",
    "print len(indices.keys()) , max(indices.values()),min(indices.values())"
   ]
  },
  {
   "cell_type": "code",
   "execution_count": 6,
   "metadata": {},
   "outputs": [
    {
     "name": "stdout",
     "output_type": "stream",
     "text": [
      "Finished for no_words = 1000\n",
      "Finished for no_words = 3000\n"
     ]
    }
   ],
   "source": [
    "no_words = [1000,3000]\n",
    "for top_words in no_words:\n",
    "    \n",
    "    rand_ind = np.arange(0,top_words)\n",
    "    np.random.shuffle(rand_ind)\n",
    "    c = 0\n",
    "    temp_word_to_ind = {}\n",
    "    \n",
    "    for ind in xrange(len(ind_frq_word)-1,len(ind_frq_word)-top_words,-1):\n",
    "        temp_word_to_ind[ind_to_word[ind_frq_word[ind]]] = rand_ind[c]\n",
    "        c += 1\n",
    "    subs = [[],[]]\n",
    "    vals = []\n",
    "    for ind,val in indices.iteritems():\n",
    "        if(ind_to_word[ind[0]] in temp_word_to_ind and ind_to_word[ind[1]] in temp_word_to_ind):\n",
    "            subs[0].append(temp_word_to_ind[ind_to_word[ind[0]]])\n",
    "            subs[1].append(temp_word_to_ind[ind_to_word[ind[1]]])\n",
    "            vals.append(val)\n",
    "            \n",
    "    with open(path+dataset+\"_top_\"+str(top_words)+\"_w_\"+str(c_window)+\"_data\", 'w+') as f:\n",
    "        np.savez(f, indices=subs, vals=vals, size=(top_words,top_words))\n",
    "    f.close()\n",
    "    with open(path+dataset+\"_top_\"+str(top_words)+\"_w_\"+str(c_window)+\"_dict\", 'w+') as f:\n",
    "        for ind,val in temp_word_to_ind.iteritems():\n",
    "            f.write(str(ind)+\" \"+str(val)+\"\\n\")\n",
    "    f.close()\n",
    "    print(\"Finished for no_words = %d\"%top_words)"
   ]
  }
 ],
 "metadata": {
  "kernelspec": {
   "display_name": "Python [default]",
   "language": "python",
   "name": "python2"
  },
  "language_info": {
   "codemirror_mode": {
    "name": "ipython",
    "version": 2
   },
   "file_extension": ".py",
   "mimetype": "text/x-python",
   "name": "python",
   "nbconvert_exporter": "python",
   "pygments_lexer": "ipython2",
   "version": "2.7.13"
  }
 },
 "nbformat": 4,
 "nbformat_minor": 2
}
